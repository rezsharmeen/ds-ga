{
 "cells": [
  {
   "cell_type": "code",
   "execution_count": 3,
   "metadata": {},
   "outputs": [
    {
     "data": {
      "text/plain": [
       "False"
      ]
     },
     "execution_count": 3,
     "metadata": {},
     "output_type": "execute_result"
    }
   ],
   "source": [
    "#conditional logic - make comparison values\n",
    "first_name == 'rezwana'"
   ]
  },
  {
   "cell_type": "code",
   "execution_count": 4,
   "metadata": {},
   "outputs": [
    {
     "data": {
      "text/plain": [
       "True"
      ]
     },
     "execution_count": 4,
     "metadata": {},
     "output_type": "execute_result"
    }
   ],
   "source": [
    "# are the values different?\n",
    "first_name !='rezwana'"
   ]
  },
  {
   "cell_type": "code",
   "execution_count": 5,
   "metadata": {},
   "outputs": [
    {
     "data": {
      "text/plain": [
       "False"
      ]
     },
     "execution_count": 5,
     "metadata": {},
     "output_type": "execute_result"
    }
   ],
   "source": [
    "age > 35"
   ]
  },
  {
   "cell_type": "code",
   "execution_count": 6,
   "metadata": {},
   "outputs": [
    {
     "data": {
      "text/plain": [
       "True"
      ]
     },
     "execution_count": 6,
     "metadata": {},
     "output_type": "execute_result"
    }
   ],
   "source": [
    "age >= 30"
   ]
  },
  {
   "cell_type": "code",
   "execution_count": 7,
   "metadata": {},
   "outputs": [
    {
     "data": {
      "text/plain": [
       "bool"
      ]
     },
     "execution_count": 7,
     "metadata": {},
     "output_type": "execute_result"
    }
   ],
   "source": [
    "type(first_name !='rezwana')"
   ]
  },
  {
   "cell_type": "code",
   "execution_count": 8,
   "metadata": {},
   "outputs": [
    {
     "data": {
      "text/plain": [
       "int"
      ]
     },
     "execution_count": 8,
     "metadata": {},
     "output_type": "execute_result"
    }
   ],
   "source": [
    "type(35)"
   ]
  },
  {
   "cell_type": "code",
   "execution_count": 9,
   "metadata": {},
   "outputs": [
    {
     "data": {
      "text/plain": [
       "True"
      ]
     },
     "execution_count": 9,
     "metadata": {},
     "output_type": "execute_result"
    }
   ],
   "source": [
    "True"
   ]
  },
  {
   "cell_type": "code",
   "execution_count": 10,
   "metadata": {},
   "outputs": [
    {
     "data": {
      "text/plain": [
       "False"
      ]
     },
     "execution_count": 10,
     "metadata": {},
     "output_type": "execute_result"
    }
   ],
   "source": [
    "False"
   ]
  },
  {
   "cell_type": "code",
   "execution_count": 12,
   "metadata": {},
   "outputs": [
    {
     "data": {
      "text/plain": [
       "True"
      ]
     },
     "execution_count": 12,
     "metadata": {},
     "output_type": "execute_result"
    }
   ],
   "source": [
    "first_name =='Rezwana'"
   ]
  },
  {
   "cell_type": "code",
   "execution_count": 58,
   "metadata": {},
   "outputs": [],
   "source": [
    "first_name = 'Rezwana'\n",
    "last_name = 'harmeen'\n",
    "age = 30"
   ]
  },
  {
   "cell_type": "code",
   "execution_count": 59,
   "metadata": {},
   "outputs": [
    {
     "name": "stdout",
     "output_type": "stream",
     "text": [
      "Your first name is: REZWANA\n",
      "Your last name is something else\n"
     ]
    }
   ],
   "source": [
    "if first_name == 'Rezwana' or first_name == 'rezwana':\n",
    "    print(f\"Your first name is: {first_name.upper()}\")\n",
    "    if last_name == 'Sharmeen':\n",
    "        print(f\"Your last name is: {last_name}\")\n",
    "        print(\"Applies to inner if\")\n",
    "    else:\n",
    "        print(\"Your last name is something else\")\n",
    "elif first_name == 'Joe': \n",
    "    print(f\"Your name is: {first_name}\")\n",
    "else:\n",
    "    print(\"Nothing was True\")\n",
    "    print(\"Still in the else statement\")"
   ]
  },
  {
   "cell_type": "code",
   "execution_count": 51,
   "metadata": {},
   "outputs": [],
   "source": [
    "if {}:\n",
    "    print(\"Does it print?\")"
   ]
  },
  {
   "cell_type": "code",
   "execution_count": 60,
   "metadata": {},
   "outputs": [],
   "source": [
    "our_list = ['this', 'that', 'something else', 4, 6, 8, True, False, [2,4,6]]"
   ]
  },
  {
   "cell_type": "code",
   "execution_count": 61,
   "metadata": {},
   "outputs": [
    {
     "data": {
      "text/plain": [
       "[2, 4, 6]"
      ]
     },
     "execution_count": 61,
     "metadata": {},
     "output_type": "execute_result"
    }
   ],
   "source": [
    "our_list[-1]"
   ]
  },
  {
   "cell_type": "code",
   "execution_count": 62,
   "metadata": {},
   "outputs": [
    {
     "data": {
      "text/plain": [
       "False"
      ]
     },
     "execution_count": 62,
     "metadata": {},
     "output_type": "execute_result"
    }
   ],
   "source": [
    "our_list[-2]"
   ]
  },
  {
   "cell_type": "code",
   "execution_count": 63,
   "metadata": {},
   "outputs": [
    {
     "data": {
      "text/plain": [
       "'something else'"
      ]
     },
     "execution_count": 63,
     "metadata": {},
     "output_type": "execute_result"
    }
   ],
   "source": [
    "our_list[2]"
   ]
  },
  {
   "cell_type": "code",
   "execution_count": 64,
   "metadata": {},
   "outputs": [
    {
     "data": {
      "text/plain": [
       "[2, 4, 6]"
      ]
     },
     "execution_count": 64,
     "metadata": {},
     "output_type": "execute_result"
    }
   ],
   "source": [
    "our_list[-1]"
   ]
  },
  {
   "cell_type": "code",
   "execution_count": 65,
   "metadata": {},
   "outputs": [
    {
     "data": {
      "text/plain": [
       "6"
      ]
     },
     "execution_count": 65,
     "metadata": {},
     "output_type": "execute_result"
    }
   ],
   "source": [
    "our_list[-1][-1]"
   ]
  },
  {
   "cell_type": "code",
   "execution_count": 66,
   "metadata": {},
   "outputs": [],
   "source": [
    "our_list[2] = 'hi'"
   ]
  },
  {
   "cell_type": "code",
   "execution_count": 67,
   "metadata": {},
   "outputs": [
    {
     "data": {
      "text/plain": [
       "['this', 'that', 'hi', 4, 6, 8, True, False, [2, 4, 6]]"
      ]
     },
     "execution_count": 67,
     "metadata": {},
     "output_type": "execute_result"
    }
   ],
   "source": [
    "our_list"
   ]
  },
  {
   "cell_type": "code",
   "execution_count": 68,
   "metadata": {},
   "outputs": [],
   "source": [
    "our_list[-1][-1] = 'the last inner item'"
   ]
  },
  {
   "cell_type": "code",
   "execution_count": 69,
   "metadata": {},
   "outputs": [
    {
     "data": {
      "text/plain": [
       "['this', 'that', 'hi', 4, 6, 8, True, False, [2, 4, 'the last inner item']]"
      ]
     },
     "execution_count": 69,
     "metadata": {},
     "output_type": "execute_result"
    }
   ],
   "source": [
    "our_list\n"
   ]
  },
  {
   "cell_type": "code",
   "execution_count": 70,
   "metadata": {},
   "outputs": [
    {
     "data": {
      "text/plain": [
       "['this', 'that', 'hi', 4, 6]"
      ]
     },
     "execution_count": 70,
     "metadata": {},
     "output_type": "execute_result"
    }
   ],
   "source": [
    "our_list[:5]"
   ]
  },
  {
   "cell_type": "code",
   "execution_count": 71,
   "metadata": {},
   "outputs": [
    {
     "data": {
      "text/plain": [
       "['that', 'hi', 4, 6, 8]"
      ]
     },
     "execution_count": 71,
     "metadata": {},
     "output_type": "execute_result"
    }
   ],
   "source": [
    "our_list[1:6]"
   ]
  },
  {
   "cell_type": "code",
   "execution_count": 72,
   "metadata": {},
   "outputs": [
    {
     "data": {
      "text/plain": [
       "[6, 8, True, False, [2, 4, 'the last inner item']]"
      ]
     },
     "execution_count": 72,
     "metadata": {},
     "output_type": "execute_result"
    }
   ],
   "source": [
    "our_list[4:]"
   ]
  },
  {
   "cell_type": "code",
   "execution_count": 73,
   "metadata": {},
   "outputs": [
    {
     "data": {
      "text/plain": [
       "[True, False, [2, 4, 'the last inner item']]"
      ]
     },
     "execution_count": 73,
     "metadata": {},
     "output_type": "execute_result"
    }
   ],
   "source": [
    "our_list[-3:]"
   ]
  },
  {
   "cell_type": "code",
   "execution_count": 74,
   "metadata": {},
   "outputs": [
    {
     "data": {
      "text/plain": [
       "['this', 'that', 'hi', 4, 6, 8]"
      ]
     },
     "execution_count": 74,
     "metadata": {},
     "output_type": "execute_result"
    }
   ],
   "source": [
    "our_list[:-3]"
   ]
  },
  {
   "cell_type": "code",
   "execution_count": 81,
   "metadata": {},
   "outputs": [
    {
     "name": "stdout",
     "output_type": "stream",
     "text": [
      "The item is: this\n",
      "We also do this for each item\n",
      "The item is: that\n",
      "We also do this for each item\n",
      "The item is: hi\n",
      "We also do this for each item\n",
      "The item is: 4\n",
      "We also do this for each item\n",
      "The item is: 6\n",
      "We also do this for each item\n",
      "The item is: 8\n",
      "We also do this for each item\n",
      "The item is: True\n",
      "We also do this for each item\n",
      "The item is: False\n",
      "We also do this for each item\n",
      "The item is: [2, 4, 'the last inner item']\n",
      "We also do this for each item\n"
     ]
    }
   ],
   "source": [
    "string_list =[]\n",
    "for item in our_list:\n",
    "    print(f\"The item is: {item}\")\n",
    "    print(\"We also do this for each item\")\n",
    "    if type(item) == str:\n",
    "        string_list.append(item)"
   ]
  },
  {
   "cell_type": "code",
   "execution_count": 82,
   "metadata": {},
   "outputs": [
    {
     "data": {
      "text/plain": [
       "['this', 'that', 'hi']"
      ]
     },
     "execution_count": 82,
     "metadata": {},
     "output_type": "execute_result"
    }
   ],
   "source": [
    "string_list"
   ]
  },
  {
   "cell_type": "code",
   "execution_count": 6,
   "metadata": {},
   "outputs": [],
   "source": [
    "import os"
   ]
  },
  {
   "cell_type": "code",
   "execution_count": 84,
   "metadata": {},
   "outputs": [
    {
     "data": {
      "text/plain": [
       "'/Users/rsharmeen/Sites/ds-ga/Class2/Labs'"
      ]
     },
     "execution_count": 84,
     "metadata": {},
     "output_type": "execute_result"
    }
   ],
   "source": [
    "pwd"
   ]
  },
  {
   "cell_type": "code",
   "execution_count": 7,
   "metadata": {},
   "outputs": [
    {
     "data": {
      "text/plain": [
       "['Loops - Basic.ipynb',\n",
       " 'Untitled.ipynb',\n",
       " 'Loops - Basic - Solutions.ipynb',\n",
       " 'Loops - Intermediate - Solutions.ipynb',\n",
       " 'If-Elif-Else-Intermediate.ipynb',\n",
       " 'If-Elif-Else-Intermediate-Solutions.ipynb',\n",
       " 'If-Elif-Else-Basic.ipynb',\n",
       " '.ipynb_checkpoints',\n",
       " 'Loops - Intermediate.ipynb']"
      ]
     },
     "execution_count": 7,
     "metadata": {},
     "output_type": "execute_result"
    }
   ],
   "source": [
    "os.listdir()"
   ]
  },
  {
   "cell_type": "code",
   "execution_count": 86,
   "metadata": {},
   "outputs": [
    {
     "name": "stdout",
     "output_type": "stream",
     "text": [
      "/Users/rsharmeen/Sites/ds-ga/Class2\n"
     ]
    }
   ],
   "source": [
    "cd ..\n"
   ]
  },
  {
   "cell_type": "code",
   "execution_count": 87,
   "metadata": {},
   "outputs": [
    {
     "name": "stdout",
     "output_type": "stream",
     "text": [
      "/Users/rsharmeen/Sites/ds-ga\n"
     ]
    }
   ],
   "source": [
    "cd .."
   ]
  },
  {
   "cell_type": "code",
   "execution_count": 88,
   "metadata": {},
   "outputs": [
    {
     "ename": "SyntaxError",
     "evalue": "invalid syntax (<ipython-input-88-d6c65a1e1ff4>, line 1)",
     "output_type": "error",
     "traceback": [
      "\u001b[0;36m  File \u001b[0;32m\"<ipython-input-88-d6c65a1e1ff4>\"\u001b[0;36m, line \u001b[0;32m1\u001b[0m\n\u001b[0;31m    cd..\u001b[0m\n\u001b[0m       ^\u001b[0m\n\u001b[0;31mSyntaxError\u001b[0m\u001b[0;31m:\u001b[0m invalid syntax\n"
     ]
    }
   ],
   "source": [
    "cd.."
   ]
  },
  {
   "cell_type": "code",
   "execution_count": 89,
   "metadata": {},
   "outputs": [
    {
     "name": "stdout",
     "output_type": "stream",
     "text": [
      "/Users/rsharmeen/Sites\n"
     ]
    }
   ],
   "source": [
    "cd .."
   ]
  },
  {
   "cell_type": "code",
   "execution_count": 90,
   "metadata": {},
   "outputs": [
    {
     "name": "stdout",
     "output_type": "stream",
     "text": [
      "/Users/rsharmeen\n"
     ]
    }
   ],
   "source": [
    "cd .."
   ]
  },
  {
   "cell_type": "code",
   "execution_count": 91,
   "metadata": {},
   "outputs": [
    {
     "name": "stdout",
     "output_type": "stream",
     "text": [
      "\u001b[34mApplications\u001b[m\u001b[m/           \u001b[34mMusic\u001b[m\u001b[m/                  composer-setup.php\r\n",
      "\u001b[34mDesktop\u001b[m\u001b[m/                \u001b[34mPictures\u001b[m\u001b[m/               \u001b[34meclipse\u001b[m\u001b[m/\r\n",
      "\u001b[34mDocuments\u001b[m\u001b[m/              \u001b[34mPublic\u001b[m\u001b[m/                 \u001b[34meclipse-workspace\u001b[m\u001b[m/\r\n",
      "\u001b[34mDownloads\u001b[m\u001b[m/              README-acquiacloud.txt  \u001b[34mgit4work1\u001b[m\u001b[m/\r\n",
      "\u001b[34mInVision\u001b[m\u001b[m/               \u001b[34mSites\u001b[m\u001b[m/                  \u001b[34mhob\u001b[m\u001b[m/\r\n",
      "\u001b[34mLibrary\u001b[m\u001b[m/                Vagrantfile             known_hosts_copy\r\n",
      "\u001b[34mMacKeeper Backups\u001b[m\u001b[m/      \u001b[34mVirtualBox VMs\u001b[m\u001b[m/         \u001b[34mopt\u001b[m\u001b[m/\r\n",
      "\u001b[34mMovies\u001b[m\u001b[m/                 \u001b[34mbase\u001b[m\u001b[m/\r\n"
     ]
    }
   ],
   "source": [
    "ls"
   ]
  },
  {
   "cell_type": "code",
   "execution_count": 92,
   "metadata": {},
   "outputs": [
    {
     "name": "stdout",
     "output_type": "stream",
     "text": [
      "/Users/rsharmeen/Downloads\n"
     ]
    }
   ],
   "source": [
    "cd Downloads"
   ]
  },
  {
   "cell_type": "code",
   "execution_count": 93,
   "metadata": {},
   "outputs": [
    {
     "data": {
      "text/plain": [
       "['untitled folder',\n",
       " 'UNICEF for every child.mp3',\n",
       " 'Usman Khan, Datamatics-Back End Test 20Nov 17.docx',\n",
       " 'Unicef_logo_Japan_2 (1).png',\n",
       " 'Unicef logo Kinyarwanda',\n",
       " 'AB testing.docx',\n",
       " 'Screen Shot 2018-01-25 at 3.20.49 PM.png',\n",
       " 'googlechrome.dmg',\n",
       " 'VIV_1892.jpg',\n",
       " 'eapro_press_release_10122017 (1).xml',\n",
       " 'DoctorsNote2018-02-28.pdf',\n",
       " 'Design model frontend implementation review.xlsx',\n",
       " 'lac_spanish_press_release_10122017 (1).xml',\n",
       " '2239509_fpx.jpeg',\n",
       " '827033_20201219_TaxStmt.pdf',\n",
       " 'Eye_doctor_referral.pdf',\n",
       " 'acquia-cloud.drush-aliases.tar.gz',\n",
       " 'QA17372 (2).docx',\n",
       " 'Center_Boulevard_Shuttle_Service (1).pdf',\n",
       " 'emulsify-develop.zip',\n",
       " 'g-1145.pdf',\n",
       " 'datasciencebook.pdf',\n",
       " 'Unicef_logo_Afghanistan.svg',\n",
       " 'UNICEF-Kyrgyzstan-107_1.jpg',\n",
       " 'India-UN0348832-hero_0.jpg',\n",
       " 'GenderPro-george-washington-university-summit-2020.jpg',\n",
       " '10731790-royal-bengal-tiger-in-its-natural-habitat-at-sundarban-forest-in-bengal-india (1).bmp',\n",
       " 'Unicef-Icons-v1.0 (3).zip',\n",
       " 'Test Result (2).docx',\n",
       " '05_TA_UNI175906_Bluewash_WEB.jpg',\n",
       " 'LIC Mask - Poly Instructions.jpg',\n",
       " 'onefile.xml',\n",
       " 'WrittenTest-Assessment-Drupal-FE-consultants-May2019 (2).xlsx',\n",
       " 'blood_work_angio_01_16_2019.pdf',\n",
       " 'Drupal web-developer-writtentest-no_answers-Frontend-updated-May30.docx',\n",
       " '10731790-royal-bengal-tiger-in-its-natural-habitat-at-sundarban-forest-in-bengal-india.jpg',\n",
       " 'MSEdge.Win10.VirtualBox.zip',\n",
       " 'Unicef-Logos-v1.0 (2).zip',\n",
       " 'SideBarGit-st3.zip',\n",
       " 'i-131 (1).pdf',\n",
       " 'ملزمة الحروف الهجائية لرياض الاطفال - يلا نذاكر.pdf',\n",
       " '2017-07-19 23-32-51 (2).pdf',\n",
       " 'd8 layout theming course files-20171106T150820Z-001.zip',\n",
       " 'Water-under-fire-2019-fr.pdf',\n",
       " 'DTP_Maven_TestNG_Script-master.zip',\n",
       " 'Media 50  50 -Spacing between image and caption block..docx',\n",
       " 'gtm_datalayer',\n",
       " '95754802_2861116037335838_5173068695332716544_n.jpg',\n",
       " 'certs (1).zip',\n",
       " 'A Sample 12.pdf',\n",
       " 'eca-what-we-do-UN038676.jpg',\n",
       " 'UNICEF_LogoIndonesia - Bahasa.svg',\n",
       " 'NotoSansThai-unhinted',\n",
       " 'FE_Answer_accepted-Nader S.docx',\n",
       " 'Check_2.svg',\n",
       " 'Laos-ChildFund-pass-it-back-hero.jpg',\n",
       " 'Unicef_logo_Japan_2.png',\n",
       " 'Party Invite.csv',\n",
       " 'NotoSans-unhinted',\n",
       " 'Git Repository Workflow.docx',\n",
       " 'F65a.docx',\n",
       " 'UNICEF-Self-Password-Set-and-Reset.pdf',\n",
       " 'global-web-redesign-unicef-dev.zip',\n",
       " '00000IMG_00000_BURST20190629200405254_COVER.jpg',\n",
       " 'FlexibleWorkOptions Request UNICEF 2011.pdf',\n",
       " 'CB_Expansion_Discount_Flyer_4545Center.pdf',\n",
       " '11990434_10102033925848092_8931998489349482055_n.jpg',\n",
       " 'Qzone_icon.svg',\n",
       " 'Lab Report Mohammad Baktiar (1).pdf',\n",
       " 'ajax_loader-8.x-1.4.zip',\n",
       " '~$547_message_comp_review.docx',\n",
       " 'unicefChinese.xml',\n",
       " 'F243 (1).docx',\n",
       " 'Unicef-Icons (1).zip',\n",
       " 'thailand_thai_press_release_20171129.xml',\n",
       " 'search_icon.svg',\n",
       " 'UNICEF-Kyrgyzstan-105_0.jpg',\n",
       " 'i-130Ammu.pdf',\n",
       " 'buybuy.xlsx',\n",
       " 'Returnswalmart.pdf',\n",
       " 'Design UX QA (2).pdf',\n",
       " 'ForwardJS San Francisco 2020 Sponsor Prospectus.pdf',\n",
       " 'gallardo.svg',\n",
       " 'Tertiary_nav_notes.pdf',\n",
       " 'wcaro_part1.xml',\n",
       " 'Social Media Icons.zip',\n",
       " 'datalayer-8.x-1.0-beta2.tar.gz',\n",
       " 'test sample .pdf',\n",
       " 'vectors-and-scalars-350.pdf',\n",
       " 'tax 2020.pdf',\n",
       " \"Mary's Lean&Green meal  daily plan.pdf\",\n",
       " 'eca-article-roma-care-Pancic.jpg',\n",
       " 'madagascar_french_press_release_20180807.xml',\n",
       " 'Unicef-Logos-v1.0.zip',\n",
       " 'Sign TFC Document_files',\n",
       " 'A Sample 1.pdf',\n",
       " 'Rezwana_commit_error.txt',\n",
       " 'brown1498475.jpg',\n",
       " 'Media 50  50 -Spacing between image and caption block. (3).docx',\n",
       " '.DS_Store',\n",
       " 'All Charts.pdf',\n",
       " 'Reddy Bhanu Prakash Bavani, Sword-Back-End Test - 10Nov17 (1).docx',\n",
       " 'Golems GABB RFPS-NYH-2019-502929.zip',\n",
       " 'export.json',\n",
       " 'Quran Hendi - joz 29 (1).pdf',\n",
       " 'File1362.PDF',\n",
       " 'unicef-drupal-base-base-Release-12.0',\n",
       " 'WrittenTest-Assessment-Drupal-FE-consultants-May2019 (4).xlsx',\n",
       " '22089013_1616677775057262_6598517063825648202_n.jpg',\n",
       " 'Iman.jpg',\n",
       " 'lac_spanish_press_release_10122017.xml.zip',\n",
       " '3parrot.jpg',\n",
       " 'October november fall 2018',\n",
       " '_MG_0268_0.jpeg',\n",
       " 'kyrgyzstan_russian_press_release_20171103 (2).xml',\n",
       " 'Quran Hendi - joz 30.pdf',\n",
       " 'Long Beach Vacation Rezwana',\n",
       " 'InVisionSync.app',\n",
       " 'Construction-Food-Signs.pdf',\n",
       " '50054-GUI_OPTAVIA-Dining-Out.pdf',\n",
       " 'Unicef_logo_Japan.png',\n",
       " 'icomoon.zip',\n",
       " '_header_olfd.scss.txt',\n",
       " 'IN PAGE SEARCH - Whale-Desktop-wider (min 1440px)@2x.png',\n",
       " 'Take-us-120-170.jpg',\n",
       " '4545 Center Blvd Apt 702 Floorplan.jpg',\n",
       " 'TemplateExecution.docx',\n",
       " 'lab.pdf',\n",
       " 'bati.jpg',\n",
       " 'Temporary_License_732777135.PDF',\n",
       " 'Gmail - Payment Confirmation #702 Sharmeen #A1803170955_VH5BU4.pdf',\n",
       " 'acquiacloud.tar.gz',\n",
       " 'wcaro_part2.xml',\n",
       " 'unicef_logo_ChinaCO_Mobile_China.svg',\n",
       " 'Unicef-Icons-v1.0 (2).zip',\n",
       " 'd8 layout theming course files-20171108T151127Z-001.zip',\n",
       " 'test',\n",
       " 'selenium-java-3.141.59.zip',\n",
       " 'paperless-post-delivery-page-23182340-10-13-17.csv',\n",
       " 'UNICEF_LogoChina.svg',\n",
       " 'dat-class-syllabus.pdf',\n",
       " 'bootstrap-tagsinput-latest.zip',\n",
       " 'set-monochrome-icons-arabic-numbers-your-design-68320891.jpg',\n",
       " 'yellow_card_02_27_2019.pdf',\n",
       " 'certs 2',\n",
       " 'withImageAndVideoeca29483.xml',\n",
       " \"World children's Day photo.jpg\",\n",
       " 'Long Beach Vacation Rezwana.zip',\n",
       " 'warning copy.png',\n",
       " 'Archive_jpeg',\n",
       " 'chromedriver_mac64.zip',\n",
       " 'Screen-Shot-2017-10-31-at-9.56.33-am.png',\n",
       " 'Media 50  50 -Spacing between image and caption block. (1).docx',\n",
       " 'fx-830_front.jpg',\n",
       " 'Home page- Random text is displaying.docx',\n",
       " 'selectize.js-master',\n",
       " '.localized',\n",
       " 'DS',\n",
       " 'lac_spanish_11_20_log.txt',\n",
       " 'eca-ambassadors-belarus.jpg',\n",
       " 'UN045730.jpg',\n",
       " 'tf66880024.xltx',\n",
       " 'wcaro_part3.xml',\n",
       " 'Unicef-Logos (7).zip',\n",
       " '52740074_2035020059900853_2826379421852631040_o.jpg',\n",
       " 'Unicef-Icons.json',\n",
       " 'India-UN0348832-hero_0 (1).jpg',\n",
       " 'MicrosoftTeams-image.png',\n",
       " 'afghanistan_test.xml',\n",
       " 'QA17372 (1).docx',\n",
       " 'cartoon_bunny.webp',\n",
       " 'Unicef_logo_Kyrgyz.svg',\n",
       " 'lac_spanish_press_release_10122017.xml',\n",
       " 'eca_eng_pr_10022017.xml',\n",
       " 'eu_cookie_compliance-8.x-1.0-beta7.zip',\n",
       " 'Softescu Lot 1 - Part 1 (1).zip',\n",
       " 'IMG_20190312_095141 (1).jpg',\n",
       " 'WrittenTest-Assessment-Drupal-FE-consultants-July2019.xlsx',\n",
       " 'New Content modelRefactor)backup.xlsx',\n",
       " 'blt_log.txt',\n",
       " 'Certificate of Employment with Salary Information - Rezwana Sharmeen.pdf',\n",
       " 'The new design model implementation plan_old versio.docx',\n",
       " 'mena_english_press_release_20180214.xml',\n",
       " 'Blog-Hero-Mobile-Image-Timor-Leste-Christmas-Hats.jpg',\n",
       " 'UN016246_1.jpg',\n",
       " 'notification',\n",
       " 'WrittenTest-Assessment-Drupal-FE-consultants-May2019 (1).xlsx',\n",
       " 'Test Result (1).docx',\n",
       " 'Loading button.zip',\n",
       " 'UN040571.jpg',\n",
       " '08-16-2019 (2).pdf',\n",
       " 'RE  URGENT Resumes Needed for Frontend and Backend Developers- Sword     FE Jr  CV 1.msg',\n",
       " '04-07-2019 emergency room visit.pdf',\n",
       " 'OpenData-DOHMH_Child_Care_DataDictionary_01082016 (1).xlsx',\n",
       " 'F65_signed_2020',\n",
       " 'TOGAF 9 Template - Implementation and Migration Plan.doc',\n",
       " 'Xcode_12.0.1.xip',\n",
       " 'DAT Installation Schedule.pdf',\n",
       " 'Jamie+Redknapp+Soccer+Aid+UNICEF+2018+XxiKmk7FEPal.jpg',\n",
       " 'target Return shoe.pdf',\n",
       " '_UHK7357.jpeg',\n",
       " 'sketch.zip',\n",
       " 'NannyContractXXX.docx',\n",
       " 'Rezwana Sharmeen D-5.pdf',\n",
       " 'github-recovery-codes (2).txt',\n",
       " 'complex-URL-31Aug2017.zip',\n",
       " '03_24-2019_bloodwork part 3-merged.pdf',\n",
       " '20180403_191343.jpg',\n",
       " 'FD1_20180702121933 (1).pdf',\n",
       " 'brown_2_A2.jpg',\n",
       " 'lac_spanish_xml_with_docx.xml.zip',\n",
       " 'Copy of VOY_technical evaluation_ 14dec17 (Autosaved).xlsx',\n",
       " 'Spectacle+1.2.zip',\n",
       " 'd8 site building images-20171106T160208Z-001.zip',\n",
       " 'wcaro_english_press_release_10122017 (1).xml',\n",
       " 'Unicef_logo_Japan.svg',\n",
       " '08-16-2019.pdf',\n",
       " 'Digital Echidna Appendix C #RFPS-USA-2017-502684.pdf',\n",
       " 'Install Step 1 (Prepare Your Machine).docx',\n",
       " 'media_entity_file_replace-8.x-1.0-beta3.tar.gz',\n",
       " 'chosen_v1.8.7.zip',\n",
       " 'rezwana_pi_log_2.txt',\n",
       " 'reshid.jpeg',\n",
       " '11081.docx',\n",
       " 'IMG_20191005_001718.jpg',\n",
       " 'FE_Answer_accepted-Jim.docx',\n",
       " 'unicef_logo_ChinaCO_Mobile_China (1).svg',\n",
       " 'Unicef.security.review.migration.2.pdf',\n",
       " 'Softescu Lot 1 - Part 4.zip',\n",
       " 'Nicolas Cianca, Trigyn-Back End Test 13Nov17 (1).docx',\n",
       " 'Unicef-Icons.zip',\n",
       " 'Test Result_blt.docx',\n",
       " 'WrittenTest-Assessment-Drupal-FE-consultants-May2019 (3).xlsx',\n",
       " 'Rezwana_Signed_lease_of_Apt_702_front.pdf',\n",
       " '~$ta Science, Part Time - Tech Guide 3.0.docx',\n",
       " 'sample-public-policy-continuum.doc',\n",
       " 'il_1588xN.1332944630_35yq.jpg',\n",
       " 'E_SDG_logo_UN_emblem_square_trans_WEB.png',\n",
       " 'unicef-press-release-arabic-xmlfiles',\n",
       " 'sr62sickleave.doc',\n",
       " 'Object_ReposPL.class',\n",
       " 'take-action-optimized.jpg',\n",
       " 'DBi - Implementation Guide  - Digital IntelligenceTransformation Project 2018 - Unicef v2.pdf',\n",
       " 'combinepdf.pdf',\n",
       " 'QA17372 (3).docx',\n",
       " 'block_progrmame_meu',\n",
       " 'children-playing-paint-29249730.jpg',\n",
       " 'what_we_do_04_1536.jpg',\n",
       " 'Design model frontend implementation reviewBACKUPPERsonnel.xlsx',\n",
       " 'dummy.pdf',\n",
       " 'Decoupled 2-Pager (Web)_v1 4.pdf',\n",
       " 'broken_images.txt.zip',\n",
       " 'NotoSans-Bold.ttf',\n",
       " 'Voices of Youth 3.0 TOR_Final_November1.docx',\n",
       " 'UN049427.jpg',\n",
       " 'TOGAF 9 Template - Implementation and Migration Plan (1).doc',\n",
       " 'ac_addin_mac_980_387 (1).z',\n",
       " 'eca-ambassadors-UNI196910.jpg',\n",
       " 'conflict(1).jpg',\n",
       " 'Amazon_Return Label.pdf',\n",
       " '39019.gif',\n",
       " 'VID_20190630_234427.mp4',\n",
       " 'arrow_up.svg',\n",
       " 'Mr Mohammad Baktiar.pdf',\n",
       " 'research_reports_03_1536.jpg',\n",
       " 'redirectTest.xml',\n",
       " '06-15-2018.xls',\n",
       " '827033_2020.pdf',\n",
       " 'adminer-4.6.2-mysql.php',\n",
       " 'Migration Rollout plan from UNICEF.xlsx',\n",
       " 'pressreleases-roco-eca (1).xml',\n",
       " 'php-error-1533672124.tar.gz',\n",
       " 'unicef_icons',\n",
       " 'Sublime Text Build 3126.dmg',\n",
       " '2019-12-17_Rezwana_blood_work.pdf',\n",
       " 'facet_icon.svg',\n",
       " 'SassBeautify',\n",
       " 'Softescu Lot 1 - Part 1.zip',\n",
       " 'admin_toolbar-8.x-1.20.tar.gz',\n",
       " 'fe.pptx',\n",
       " '1416340804412.jpg',\n",
       " 'eapro_press_release_10122017.xml',\n",
       " 'Spectacle.app',\n",
       " 'Getting-into-the-game-2019-cover.jpg',\n",
       " '94882383_2861115874002521_643817268412678144_n.jpg',\n",
       " 'MicrosoftTeams-image (2).png',\n",
       " '~$stall Step 1 (Prepare Your Machine).docx',\n",
       " 'DMStratTemplate V0.5.docx',\n",
       " 'ProgrammesNav_prototype.zip',\n",
       " 'Unicef_logo_Russian.svg',\n",
       " 'emergency.jpg',\n",
       " 'Guideline - Performance Mgmt - PIP template 27 June 2014 (1).rtf',\n",
       " '2parrot.jpg',\n",
       " 'french dummy.pdf',\n",
       " 'LakshmiSindhu-Knowledge Management web-developer-writtentest-Backend1.docx',\n",
       " '07-17-2018.xls',\n",
       " 'set-monochrome-icons-arabic-numbers-your-design-68320891 (1).jpg',\n",
       " 'Media 50  50 -Spacing between image and caption block. (2).docx',\n",
       " 'VOY technical evaluation.xlsx',\n",
       " 'Book.xlsx.html',\n",
       " 'Grey_901424.jpg',\n",
       " 'Setting up unicef website on MAC.docx',\n",
       " 'FACE_ICE.docx',\n",
       " 'Lab Report Mohammad Baktiar.pdf',\n",
       " 'QA17372.docx',\n",
       " '827033_20200426_TaxStmt.pdf',\n",
       " 'WhatsApp Video 2020-06-19 at 10.20.27 PM.mp4',\n",
       " 'Rezwana_Signed_lease_of_Apt_702_front (1).pdf',\n",
       " 'eca-ambassadors-bulgaria.jpg',\n",
       " 'bunny-grass.jpg',\n",
       " 'PHP-Twig.tmbundle-master',\n",
       " 'Zensar_Technical proposal.zip',\n",
       " 'Check.svg',\n",
       " 'lac_spanish_press_releases_20180305.xml',\n",
       " 'ic201325rentals.doc',\n",
       " 'Pretty-Braided-Hairstyle-for-Kids.jpg',\n",
       " 'eca-ecd-UN049491.jpg',\n",
       " 'WOMENS-WEIGHT-MEASUREMENT-GOAL-TRACKING.xls',\n",
       " 'Softescu Lot 1 - Part 2.zip',\n",
       " 'notification_4.9.2.zip',\n",
       " '60lb countdown.pdf',\n",
       " 'SideBarGit-st3',\n",
       " '827033_2017_TaxStmt.pdf',\n",
       " 'eca-ambassadors-bosnia.jpg',\n",
       " 'PajamaReturnReturn Confirmation.pdf',\n",
       " 'rosa_english_press_release_20180314.xml',\n",
       " '20180704_164411.jpg',\n",
       " '827033_20200603_TaxStmt.pdf',\n",
       " 'wcaro_english_press_release_20171012.xml',\n",
       " 'BackdroplistingN6 (1).jpg',\n",
       " 'migrationlog.txt',\n",
       " 'Spectacle 2.app',\n",
       " 'eca-ambassadors-UNI196912.jpg',\n",
       " 'global-web-redesign-migration.zip',\n",
       " 'WrittenTest-Assessment-Drupal-FE-consultants-May2019 (5).xlsx',\n",
       " 'XML',\n",
       " 'icons8-home-address-filled-50.png',\n",
       " 'weeklyreport',\n",
       " '75210191_10157690055893728_2611858454096117760_o.jpg',\n",
       " 'close.svg',\n",
       " 'DrNoteFluDec2017.pdf',\n",
       " 'Double-Twist-Back-Toddler-Hairstyle.jpg',\n",
       " 'tf66880024 (1).xltx',\n",
       " 'svg1.jpg',\n",
       " 'Release 6 Oct 24 2018_2019020610360081.html',\n",
       " 'drupal-watchdog-1533672067.tar.gz',\n",
       " '~$tting up unicef website on MAC.docx',\n",
       " 'Unicef-Icons-v1.0.zip',\n",
       " 'Rezwana_Signed_lease_of_Apt_702_front (2).pdf',\n",
       " 'notificationaggregator_4.9.2.zip',\n",
       " '~$zwana_project_installation_log.docx',\n",
       " 'mohammad_baktiar_lab_report_2019-08-08.pdf',\n",
       " 'dev_log02_132018.txt',\n",
       " '2017-11-22_UNICEF_Hero_HP_2000x1200px.jpg',\n",
       " 'README.md',\n",
       " 'UDTPH-Mappingofspecificationstocontentmodel-031117-1748-192.pdf',\n",
       " 'New Tab.htm',\n",
       " 'Introducing GitFlow.pdf',\n",
       " '~$309-list-component.docx',\n",
       " 'shaheen picture',\n",
       " 'disable_link_rel-8.x-1.0-alpha1.zip',\n",
       " 'article_resources.zip',\n",
       " 'QA19280_Failed.docx',\n",
       " '02_WWD_UNI174116_Bluewash_WEB.jpg',\n",
       " 'mena_english_press_release_20180209.xml',\n",
       " 'Siged_lease_of_Apt_702_at_4.pdf',\n",
       " 'School_First_15.jpg',\n",
       " 'HOLIDAY_HACKS_FINAL_PDF_e_book.pdf',\n",
       " '1091330054777_SEP13.pdf',\n",
       " 'image002.png',\n",
       " 'iCloud Photos.zip',\n",
       " 'Plan Compliant Indian Vegetarian recipes.docx',\n",
       " 'wa-9900n-pt_final_v2_171128.pdf',\n",
       " 'IE11.Win7.VirtualBox.zip',\n",
       " 'd8 site building images-20171106T150757Z-001.zip',\n",
       " 'RezwanaSharmeenResume.pdf',\n",
       " 'All Charts.html',\n",
       " 'Archive_jpeg.zip',\n",
       " 'Setup new sites UNICEF Platform.pdf',\n",
       " 'wraith-4.2.6.gem',\n",
       " 'Home page- Random text is displaying (2).docx',\n",
       " 'Frontend implementation review by Dev team.xlsx',\n",
       " 'InVisionSync.zip',\n",
       " 'selenium-java-3.141.59',\n",
       " 'unicefSpanish.xml',\n",
       " 'November 2019 - Part 2 - Online Rebates.pdf',\n",
       " 'MohammadBaktiarReportDec6th2017.pdf',\n",
       " 'IMG_20190312_095141.jpg',\n",
       " 'WrittenTest-Assessment-Drupal-FE-consultants-May2019.xlsx',\n",
       " 'i-130 Fariha.pdf',\n",
       " 'Test Cases for ECA Content Migration.docx',\n",
       " 'Annex 1 ACCESSIBILITY STANDARS FOR UNICEF WEBSITES.pdf',\n",
       " 'DTP - Drupal_Deployment_For_Translation_currentSprint.xlsx',\n",
       " 'testkyrgyzstan.xml.zip',\n",
       " 'F243.docx',\n",
       " 'Interview_InfoCommTech_frontend-backend-developer_with_drupal_Qs-Final.doc',\n",
       " 'Bright Solutions LOT1.zip',\n",
       " 'Letter of Appointment - Rezwana Sharmeen.pdf',\n",
       " '12970 - Media block 50x50%.pdf',\n",
       " 'UNICEF-Ethiopia_web.jpg',\n",
       " 'i-130instr.pdf',\n",
       " 'D5 Madani Due.pdf',\n",
       " 'F243_2020_signed.pdf',\n",
       " 'leather-19.jpeg',\n",
       " 'Gifox.dmg',\n",
       " 'pressreleases-roco-eca (2).xml',\n",
       " 'Spectacle+1.2 (1).zip',\n",
       " 'testkyrgyzstan.xml',\n",
       " 'UNICEF_logo_Afgh.png',\n",
       " 'Media Banner Check.docx',\n",
       " 'image001.png',\n",
       " 'certs',\n",
       " 'ena pp.pdf',\n",
       " 'Zensar_Technical proposal',\n",
       " 'UN0264429_resized.jpg',\n",
       " '~$st Result (3).docx',\n",
       " 'Ameex Attachment 1 - Proposed Timeline.pdf',\n",
       " 'unty_picture.jpg',\n",
       " '6942427-3d-flower-background.jpg',\n",
       " '~$oter Tertiary Menu.docx',\n",
       " 'Dropdown Alignment Issue (1).docx',\n",
       " 'AI  2005-  2.Amend_.2     [Family leave, maternity leave and paternity leave] (1).docx',\n",
       " 'MicrosoftTeams-image (1).png',\n",
       " 'pressreleases-roco-eca.xml',\n",
       " 'wraith-4.2.5.gem',\n",
       " 'Design UX QA_DATE.pdf',\n",
       " 'Chicken Beef Turkey Fish Recipes.pdf',\n",
       " '87160224_169035787880032_4845766825595633664_n (1).png',\n",
       " '~$dia Banner Check.docx',\n",
       " 'Flexible Work Options Request form.pdf',\n",
       " 'Gizra - INITIAL WORKFLOW REVIEW.docx',\n",
       " 'TemplateExecution (1).docx',\n",
       " 'IMG_7883_ru.jpg',\n",
       " 'i-130instr (1).pdf',\n",
       " 'Sample Nanny Contract.docx',\n",
       " 'tmp 2',\n",
       " 'ac_addin_mac_980_387.z',\n",
       " 'medical consult.pdf',\n",
       " 'Design UX QA (11).pdf',\n",
       " 'MohammadBaktiar.pdf',\n",
       " '036_surah_ya_seen_aks.pdf',\n",
       " '1parrot.jpg',\n",
       " 'Secondary nav (dragged).pdf',\n",
       " 'kg1_2.pdf',\n",
       " '827033_CFNI_2017_20180125_SteStmt.pdf',\n",
       " 'Order Details bella.pdf',\n",
       " 'apt',\n",
       " 'Gonzalo Bell_DRR Kyrgyzstan-35.jpg',\n",
       " 'Same-Side-Lace-Braid.jpg',\n",
       " 'CompetencyExamples.doc',\n",
       " 'SassBeautify-master.zip',\n",
       " 'ICTD Org Structure with Sections.pdf',\n",
       " 'UNICEF Logo Kinyarwanda Vector Files.zip',\n",
       " 'UN0264448 (1).jpeg',\n",
       " 'LIC NYP Welcome Packet  2s  2018-2019 FINAL.pdf',\n",
       " 'RezwanaSharmeenPassportCopy.jpeg',\n",
       " '10731790-royal-bengal-tiger-in-its-natural-habitat-at-sundarban-forest-in-bengal-india.bmp',\n",
       " 'retaxchequequestion',\n",
       " 'Braided-Half-Up-Hairstyle-for-Kids.jpg',\n",
       " 'jre-8u211-macosx-x64.dmg',\n",
       " 'GoTo Opener.dmg',\n",
       " '87160224_169035787880032_4845766825595633664_n.png',\n",
       " 'roboto.zip',\n",
       " 'unnamed.jpg',\n",
       " 'Macys_black_jeans_return.pdf',\n",
       " '6201536.pdf',\n",
       " 'Cookie Alignment Issues.docx',\n",
       " 'NotoSansThai-unhinted.zip',\n",
       " '102409641_10157406604595886_3780847864046894847_o.jpg',\n",
       " 'Design UX QA.pdf',\n",
       " 'theyre-not-too-young-1.jpg',\n",
       " 'global_arabic_article_migration_log.txt',\n",
       " '13932_passed.docx',\n",
       " 'AMA_RezwanaPrioratized.xlsx',\n",
       " '1200px-Statue_of_Liberty_7.jpg',\n",
       " 'post angipplasty_blood_work_01_21_2019.pdf',\n",
       " 'Design model frontend implementation review (1).xlsx',\n",
       " 'Order Details bella_files',\n",
       " '95138097_2861116447335797_2983001228276924416_n.jpg',\n",
       " 'unicef-press-release-arabic-xmlfiles.zip',\n",
       " '827033_CFNI_2020_20210128_SteStmt.pdf',\n",
       " '2bunny.jpg',\n",
       " 'Allotp6',\n",
       " 'Page.svg',\n",
       " 'PHP-Twig.tmbundle-master.zip',\n",
       " 'Dropdown Alignment Issue.docx',\n",
       " 'attachment 1.pdf',\n",
       " 'Drupal.JavaScript.API.pptx',\n",
       " '95cb69af-a503-4b5e-9c48-c2551e625370.jpg',\n",
       " 'Take_Us_Seriously_Easy-to-Read.pdf',\n",
       " 'Fwd Fw unicef.org Federated onboarding doc.msg',\n",
       " 'Sureshkumar-Knowledge Management web-developer-writtentest-Backend1.docx',\n",
       " 'image007.png',\n",
       " '08-16-2019 (1).pdf',\n",
       " 'FD1_20180702121933.pdf',\n",
       " 'Test coverage recommendations - Gizra.docx',\n",
       " 'blt_sync_default',\n",
       " 'certs.zip',\n",
       " 'Unicef-Logos-v1.0OLD.zip',\n",
       " '4545A1-702-Unsigned Lease.pdf',\n",
       " 'inspect-assets.zip',\n",
       " 'playbook.yml',\n",
       " '89882527_10217226009227681_3321094637136904192_n.jpg',\n",
       " 'IMAN AARIZ.pdf',\n",
       " '2017 REZWANA SHARMEEN and MOHAMMAD A. AZAD.pdf',\n",
       " 'UN0140097.jpeg',\n",
       " 'BackdroplistingN6.jpg',\n",
       " 'OneDrive_1_6-3-2019.zip',\n",
       " 'Unicef-Icons (4).zip',\n",
       " 'eca_press_release_10022017 (1).xml',\n",
       " 'github-recovery-codes (1).txt',\n",
       " 'selectize.js-master.zip',\n",
       " 'Master_Styles_Components_HeaderLookup_02-11-17_1508.sketch',\n",
       " \"Macy's ONLINE Rebate Form - November 2018.pdf\",\n",
       " 'nycbr_phototour42.jpg',\n",
       " 'Job_icon.svg',\n",
       " 'empire-state-building-observatory-moonlight-3000x2000__card.jpg',\n",
       " 'blt_sync_default (1)',\n",
       " 'daterangepicker-3.1.zip',\n",
       " 'birth_certificate.jpg',\n",
       " '~$rkdonebyme.docx',\n",
       " '49666976_304888200159329_7342847385422266368_o.jpg',\n",
       " 'LOT1_LOT 1 - Technical Proposal - Design UX and UI Professional Services.pdf',\n",
       " 'ef_conv_zip_wGXMcKMliLpgOsAhG9i9EQeF.zip',\n",
       " 'Unicef-Icons-v1.0 (1).zip',\n",
       " 'document_cover.png',\n",
       " 'Party Invite 2.csv',\n",
       " 'mena-media-MENA_PR_final_Arabic.docx',\n",
       " 'sample contract.docx',\n",
       " 'florence-facemask-freesewing.org.a4.pdf',\n",
       " 'acquiacloud (1).tar.gz',\n",
       " 'roboto',\n",
       " 'PR Code Review.docx',\n",
       " 'kyrgyzstan_russian_press_release_20171103.xml',\n",
       " 'broken_images.txt (1).zip',\n",
       " 'Home page- Random text is displaying (1).docx',\n",
       " 'ParallelsDesktop-13.2.0-43213.dmg',\n",
       " '01_HP_UNI158415_Bluewash_WEB.jpg',\n",
       " 'UNICEF Competency Mapping.xls',\n",
       " 'iTerm.app',\n",
       " 'UNI121463_Med-Res.jpg',\n",
       " 'workdonebyme.docx',\n",
       " 'uganda_english_press_release_20180418.xml',\n",
       " 'chromedriver',\n",
       " 'Sign TFC Document.html',\n",
       " '10949 noneng_spanish.docx',\n",
       " 'Royal-Bengal-Tiger.jpg',\n",
       " 'unicefFrench.xml',\n",
       " 'Order Details bella.htm',\n",
       " 'quote_card_rectangle_option_2.png',\n",
       " 'marriage_certificate.jpg',\n",
       " 'take-action_1.jpg',\n",
       " '{90A2532C-DD56-4C54-81F5-C1045714B97D}.pdf',\n",
       " 'A Sample.pdf',\n",
       " 'Test-Cases-for-ECA.xlsx',\n",
       " 'eca-ambassadors-armenia.jpg',\n",
       " '02_14_2018_mena_eng_migration_log.txt',\n",
       " 'blt_frontendbuild',\n",
       " 'EDUCAtion_innovation.jpg',\n",
       " '20180805042011BDT_01KEFX__V2.pdf',\n",
       " '2017-07-19 23-32-51.pdf',\n",
       " 'Design UX QA (1).pdf',\n",
       " 'blt_sync_default (2)',\n",
       " 'Unicef-Icons (3).zip',\n",
       " 'ST.AI_.2018.3- Rental subsidies and deductions.pdf',\n",
       " 'drupal-8.5.10.fr.po',\n",
       " 'SG_report_Covid19andHumanRights4.jpg',\n",
       " 'Random',\n",
       " 'kyrgyzstan_russian_press_release_20171103 (1).xml.zip',\n",
       " '6190025.pdf',\n",
       " 'UNICEF_LogoKinyarwanda (1).svg',\n",
       " 'Secondary nav (dragged) 4.pdf',\n",
       " '20191009_DRC_Measles_PR.jpg',\n",
       " 'iTerm2-3_0_15.zip',\n",
       " 'OpenData-DOHMH_Child_Care_DataDictionary_01082016.xlsx',\n",
       " 'acquiacloud.tar',\n",
       " 'Self-Service Password Reset Tool for UNICEF users.msg',\n",
       " 'Zosia+Hand+Tufted+Wool+Ivory+Area+Rug.jpg',\n",
       " 'Unicef-Icons.svg',\n",
       " 'IMG_20181228_232937.jpg',\n",
       " 'media_entity_file_replace 2',\n",
       " 'kyrgyzstan_russian_press_release_20171103 (1).xml',\n",
       " 'VOY_RFP_NEW',\n",
       " '2018 REZWANA SHARMEEN and MOHAMMAD A. AZAD 20180305.pdf',\n",
       " 'Rezwana-4545A1-702-Unsigned Lease.pdf',\n",
       " 'Mohammad_Baktiar_medical_clearence.pdf',\n",
       " 'Revised Rezwana Sharmeen_Offer letter.pdf',\n",
       " 'github-recovery-codes.txt',\n",
       " 'NannyContractGloriaCarcamo.docx',\n",
       " 'JamesSkowyra-web-developer-writtentest-Backend1.docx',\n",
       " 'Signature_required_on_Private_Function_Agreem.pdf',\n",
       " 'unicorn',\n",
       " 'Unicef-Logos-v1.0 (1).zip',\n",
       " 'retaxchequequestion 2',\n",
       " 'Center_Boulevard_Shuttle_Service.pdf',\n",
       " '679531_587a6a0797b542d98a46481feab3714d_mv2_d_1242_1239_s_2.webp',\n",
       " 'Inventory list drupal commands (drush and BLT).docx',\n",
       " 'UNICEF_LogoKinyarwanda.svg',\n",
       " 'DSC_9351.JPG',\n",
       " 'what-is-data-science.pdf',\n",
       " '2017-07-19 23-32-51 (1).pdf',\n",
       " 'gitflow.pdf',\n",
       " 'tmp',\n",
       " '2017 REZWANA SHARMEEN and MOHAMMAD A. AZAD (1).pdf',\n",
       " '2020-03-04-Rezwana_blood_work.pdf',\n",
       " 'IMG_20190709_161627.jpg',\n",
       " 'CHeetahs.webp',\n",
       " 'Macys return gym fem.pdf',\n",
       " 'Design model frontend implementation review (2).xlsx',\n",
       " 'i-130.pdf',\n",
       " 'certs (2).zip',\n",
       " '75424634_10157690055933728_5954852506705068032_o.jpg',\n",
       " 'date.svg',\n",
       " 'module_install.png',\n",
       " '827033_20180110_TaxStmt.pdf',\n",
       " 'F65.docx',\n",
       " 'php-errors.log',\n",
       " 'Screen Shot 2019-10-18 at 20.10.55.png',\n",
       " 'Bhargav Ram Putta_Knowledge Management web-developer-writtentest-Backend.docx',\n",
       " 'new1.jpg.zip',\n",
       " 'Test Result.docx',\n",
       " 'datalayer',\n",
       " 'MohammadBaktiarMedicaid.pdf',\n",
       " '77219702_10157736694018728_1664738291821314048_o.jpg',\n",
       " '4545_Center_Blvd_-_Play_Room_Rules.pdf',\n",
       " 'writtentest-assessment-frontendbackend-developer-consolidated.xlsx',\n",
       " 'gtm_datalayer-8.x-1.0-beta1.tar.gz',\n",
       " 'Guideline - Performance Mgmt - PIP template 27 June 2014.rtf',\n",
       " 'dev4-www.unicef.org_search(iPhone X).png',\n",
       " 'FD1_20180730090534.pdf',\n",
       " 'i-131.pdf',\n",
       " 'TemplateExecution (2).docx',\n",
       " '827033_20200823_TaxStmt.pdf',\n",
       " 'Temporary_Photo_Document.pdf',\n",
       " 'UNICEF - Technical Proposal - Lot 1.pdf',\n",
       " 'eclipse-inst-mac64.dmg',\n",
       " 'Sketch.app',\n",
       " 'Test-Cases-for-OrangeHRM-SoftwareTestingHelp.xlsx',\n",
       " 'Unicef-Icons (2).zip',\n",
       " 'Lab Report Mohammad Baktiar (2).pdf',\n",
       " '~$Copy of VOY_technical evaluation_ 14dec17 (Autosaved).xlsx',\n",
       " 'arrow_up (1).svg',\n",
       " 'ruby-on-rails-tutorial.pdf',\n",
       " '4545A1-702-Unsigned Lease (1).pdf',\n",
       " 'Unicef_logo_Afghanistan.gif',\n",
       " 'e-file Signature Authorizations.pdf',\n",
       " '01_HP_UNI158415_Bluewash_WEB (1).jpg',\n",
       " 'lac_spanish_xml_with_docx.xml',\n",
       " '2019-03-06_TFC_Referral-Flyer_Print.pdf',\n",
       " 'media_entity_file_replace-8.x-1.0-beta3.zip',\n",
       " 'Holy-Quran-Para-29.pdf',\n",
       " 'SM_post_icon (1).png',\n",
       " 'notificationaggregator',\n",
       " 'bookingconfirmation.pdf',\n",
       " 'Loading button (1).zip',\n",
       " 'Test-4545A1-702-Unsigned Lease.pdf',\n",
       " 'withJavascript.xml',\n",
       " 'eapro_press_release_10122017 (2).xml',\n",
       " 'wcaro_english_press_release_10122017.xml',\n",
       " 'AI  2005-  2.Amend_.2     [Family leave, maternity leave and paternity leave].docx',\n",
       " 'contacts2020.vcf',\n",
       " 'gloria.jpg',\n",
       " 'uganda_english_press_release_20180418 (1).xml',\n",
       " 'Reserve Statue of Liberty Tickets, Ellis Island Tickets _ Statue of Liberty Tours and Ellis Island Tours – StatueOfLibertyTickets.pdf',\n",
       " 'block_progrmame_meu (1)',\n",
       " 'Certificate of Employment without Salary Information - Rezwana Sharmeen.pdf',\n",
       " 'Test-Logo.svg',\n",
       " 'Secondary nav (dragged) 3.pdf',\n",
       " 'with3files.xml',\n",
       " 'rezwana_project_installation_log.txt',\n",
       " 'media_entity_file_replace',\n",
       " 'IE and Chrome Home page dropdown style.docx',\n",
       " 'with2files.xml',\n",
       " 'The new design model implementation plan.docx',\n",
       " 'unicef_logo_ChinaCO_Desktop_China.svg',\n",
       " 'python-3.9.1-macosx10.9.pkg',\n",
       " 'VOYRfp',\n",
       " 'kg1_2 (1).pdf',\n",
       " 'Sapiens.pdf',\n",
       " 'madagascar_english_press_release_20180903.xml',\n",
       " 'wcaro-english-press_release_xml.zip',\n",
       " 'unicef english migratoion error log',\n",
       " 'drupal-8.5.10.ar.po',\n",
       " 'icomoon (1).zip',\n",
       " 'Rezwana_project_installation_log.docx',\n",
       " 'kyrgyzstan_russian_press_release_20171103.xml.zip',\n",
       " 'SAMPLE PDF',\n",
       " 'VIV_1280.jpg']"
      ]
     },
     "execution_count": 93,
     "metadata": {},
     "output_type": "execute_result"
    }
   ],
   "source": [
    "os.listdir()"
   ]
  },
  {
   "cell_type": "code",
   "execution_count": 96,
   "metadata": {},
   "outputs": [
    {
     "name": "stdout",
     "output_type": "stream",
     "text": [
      "Party Invite.csv\n",
      "paperless-post-delivery-page-23182340-10-13-17.csv\n",
      "Party Invite 2.csv\n"
     ]
    }
   ],
   "source": [
    "for file in os.listdir():\n",
    "    if file[-3:] == 'csv':\n",
    "        print(file)"
   ]
  },
  {
   "cell_type": "code",
   "execution_count": 5,
   "metadata": {},
   "outputs": [
    {
     "data": {
      "text/plain": [
       "'/Users/rsharmeen/Sites/ds-ga/Class2/Labs'"
      ]
     },
     "execution_count": 5,
     "metadata": {},
     "output_type": "execute_result"
    }
   ],
   "source": [
    "pwd\n"
   ]
  },
  {
   "cell_type": "code",
   "execution_count": 2,
   "metadata": {},
   "outputs": [
    {
     "name": "stdout",
     "output_type": "stream",
     "text": [
      "Enter a password: 1234\n"
     ]
    }
   ],
   "source": [
    "password = input(\"Enter a password: \")"
   ]
  },
  {
   "cell_type": "code",
   "execution_count": 3,
   "metadata": {},
   "outputs": [
    {
     "data": {
      "text/plain": [
       "True"
      ]
     },
     "execution_count": 3,
     "metadata": {},
     "output_type": "execute_result"
    }
   ],
   "source": [
    "password.isdecimal()\n"
   ]
  },
  {
   "cell_type": "code",
   "execution_count": 4,
   "metadata": {},
   "outputs": [
    {
     "data": {
      "text/plain": [
       "True"
      ]
     },
     "execution_count": 4,
     "metadata": {},
     "output_type": "execute_result"
    }
   ],
   "source": [
    "password.isalnum()"
   ]
  },
  {
   "cell_type": "code",
   "execution_count": null,
   "metadata": {},
   "outputs": [],
   "source": []
  }
 ],
 "metadata": {
  "kernelspec": {
   "display_name": "Python 3",
   "language": "python",
   "name": "python3"
  },
  "language_info": {
   "codemirror_mode": {
    "name": "ipython",
    "version": 3
   },
   "file_extension": ".py",
   "mimetype": "text/x-python",
   "name": "python",
   "nbconvert_exporter": "python",
   "pygments_lexer": "ipython3",
   "version": "3.8.5"
  }
 },
 "nbformat": 4,
 "nbformat_minor": 4
}
