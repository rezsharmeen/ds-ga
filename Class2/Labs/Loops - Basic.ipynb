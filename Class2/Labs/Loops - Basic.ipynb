{
 "cells": [
  {
   "cell_type": "markdown",
   "metadata": {},
   "source": [
    "### Basic Loops\n",
    "\n",
    "**Who This Workbook Is For**:  If you're newer to python and want to do simple exercises to make sure you feel like you 'get it', and don't have any confusions about basic syntax, then this is the workbook for you.\n",
    "\n",
    "If you want something more engaging that's not geared towards beginners, please use the other workbook."
   ]
  },
  {
   "cell_type": "markdown",
   "metadata": {},
   "source": [
    "**Step 1:** Loop through the list, and print the name of each item in the list. "
   ]
  },
  {
   "cell_type": "code",
   "execution_count": 3,
   "metadata": {},
   "outputs": [],
   "source": [
    "fruits = ['bananas', 'cumquat', 'watermelon', 'cherry', 'mango', 'soursop', 'apricot', 'nectarine']"
   ]
  },
  {
   "cell_type": "code",
   "execution_count": 4,
   "metadata": {},
   "outputs": [
    {
     "name": "stdout",
     "output_type": "stream",
     "text": [
      "Fruit basket has bananas\n",
      "Fruit basket has cumquat\n",
      "Fruit basket has watermelon\n",
      "Fruit basket has cherry\n",
      "Fruit basket has mango\n",
      "Fruit basket has soursop\n",
      "Fruit basket has apricot\n",
      "Fruit basket has nectarine\n"
     ]
    }
   ],
   "source": [
    "for item in fruits:\n",
    "    print(f\"Fruit basket has {item}\")"
   ]
  },
  {
   "cell_type": "markdown",
   "metadata": {},
   "source": [
    "**Step 2:** Loop through the list, and print the name of each item, as well as its length"
   ]
  },
  {
   "cell_type": "code",
   "execution_count": 5,
   "metadata": {},
   "outputs": [
    {
     "name": "stdout",
     "output_type": "stream",
     "text": [
      "Fruit basket has bananas and length 7\n",
      "Fruit basket has cumquat and length 7\n",
      "Fruit basket has watermelon and length 10\n",
      "Fruit basket has cherry and length 6\n",
      "Fruit basket has mango and length 5\n",
      "Fruit basket has soursop and length 7\n",
      "Fruit basket has apricot and length 7\n",
      "Fruit basket has nectarine and length 9\n"
     ]
    }
   ],
   "source": [
    "for item in fruits:\n",
    "    print(f\"Fruit basket has {item} and length {len(item)}\")"
   ]
  },
  {
   "cell_type": "markdown",
   "metadata": {},
   "source": [
    "**Step 3:** Loop through the list, and print the name of the item, *if it's length is an even number*"
   ]
  },
  {
   "cell_type": "code",
   "execution_count": 8,
   "metadata": {},
   "outputs": [
    {
     "name": "stdout",
     "output_type": "stream",
     "text": [
      "Even length watermelon and length 10\n",
      "Even length cherry and length 6\n"
     ]
    }
   ],
   "source": [
    "for item in fruits:\n",
    "    if len(item) % 2 == 0:\n",
    "        print(f\"Even length {item} and length {len(item)}\")"
   ]
  },
  {
   "cell_type": "markdown",
   "metadata": {},
   "source": [
    "**Step 4:** Create a variable that's an empty list, and add the item in the `fruits` list to it if it's length is an even number."
   ]
  },
  {
   "cell_type": "code",
   "execution_count": 11,
   "metadata": {},
   "outputs": [
    {
     "data": {
      "text/plain": [
       "['watermelon', 'cherry']"
      ]
     },
     "execution_count": 11,
     "metadata": {},
     "output_type": "execute_result"
    }
   ],
   "source": [
    "even_length_fruit_names = []\n",
    "\n",
    "for item in fruits:\n",
    "    if len(item) % 2 == 0:\n",
    "        even_length_fruit_names.append(item)\n",
    "        \n",
    "even_length_fruit_names"
   ]
  },
  {
   "cell_type": "markdown",
   "metadata": {},
   "source": [
    "**Step 5:** Loop through the `fruits` list, but *stop* the loop as soon as you come across an item that's more than 7 characters long."
   ]
  },
  {
   "cell_type": "code",
   "execution_count": 13,
   "metadata": {},
   "outputs": [
    {
     "name": "stdout",
     "output_type": "stream",
     "text": [
      "cherry\n"
     ]
    }
   ],
   "source": [
    "for item in fruits:\n",
    "    if len(item) > 7:\n",
    "        break\n",
    "print(item)        "
   ]
  },
  {
   "cell_type": "markdown",
   "metadata": {},
   "source": [
    "**Step 6:** Create a loop that only prints every third item in the list\n",
    "\n",
    "**Hint:** `enumerate()` is a useful function for this sort of thing.  More info on that here:  https://www.programiz.com/python-programming/methods/built-in/enumerate"
   ]
  },
  {
   "cell_type": "code",
   "execution_count": 15,
   "metadata": {},
   "outputs": [
    {
     "name": "stdout",
     "output_type": "stream",
     "text": [
      "bananas\n",
      "cherry\n",
      "apricot\n"
     ]
    }
   ],
   "source": [
    "for inx, value in enumerate(fruits):\n",
    "    if inx % 3 == 0:\n",
    "        print(value)"
   ]
  }
 ],
 "metadata": {
  "kernelspec": {
   "display_name": "Python 3",
   "language": "python",
   "name": "python3"
  },
  "language_info": {
   "codemirror_mode": {
    "name": "ipython",
    "version": 3
   },
   "file_extension": ".py",
   "mimetype": "text/x-python",
   "name": "python",
   "nbconvert_exporter": "python",
   "pygments_lexer": "ipython3",
   "version": "3.8.5"
  }
 },
 "nbformat": 4,
 "nbformat_minor": 2
}
